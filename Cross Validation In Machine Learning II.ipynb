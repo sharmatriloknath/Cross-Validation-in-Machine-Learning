{
 "cells": [
  {
   "cell_type": "markdown",
   "id": "1efae679",
   "metadata": {},
   "source": [
    "<center><em>Copyright IBM</em></center>\n",
    "<center><em><b>Created By Trilok Nath</b></em></center>"
   ]
  },
  {
   "cell_type": "markdown",
   "id": "63904b26",
   "metadata": {},
   "source": [
    "# Cross Validation Implementation"
   ]
  },
  {
   "cell_type": "code",
   "execution_count": 2,
   "id": "e2661eda",
   "metadata": {},
   "outputs": [],
   "source": [
    "# import necessary Libraries.\n",
    "#Basic Libraries\n",
    "import numpy as np\n",
    "import pandas as pd\n",
    "from scipy.special import comb\n",
    "\n",
    "# sklearn Dataset\n",
    "from sklearn.datasets import load_breast_cancer\n",
    "\n",
    "#Machine Learning Model\n",
    "from sklearn.linear_model import LogisticRegression\n",
    "\n",
    "#Performance Metrics\n",
    "from sklearn.metrics import accuracy_score\n",
    "\n",
    "#Cross Validation\n",
    "from sklearn.model_selection import (\n",
    "    KFold,\n",
    "    RepeatedKFold,\n",
    "    LeaveOneOut,\n",
    "    LeavePOut,\n",
    "    StratifiedKFold,\n",
    "    cross_validate,\n",
    "    train_test_split,\n",
    ")"
   ]
  },
  {
   "cell_type": "code",
   "execution_count": 7,
   "id": "e135819c",
   "metadata": {},
   "outputs": [],
   "source": [
    "# Load Data\n",
    "X,y = load_breast_cancer(return_X_y=True)"
   ]
  },
  {
   "cell_type": "code",
   "execution_count": 10,
   "id": "ac40f378",
   "metadata": {},
   "outputs": [],
   "source": [
    "# Covert data into pandas specific Data Structures\n",
    "X = pd.DataFrame(X)\n",
    "y = pd.Series(y).map({0:1, 1:0})"
   ]
  },
  {
   "cell_type": "code",
   "execution_count": 11,
   "id": "123f337a",
   "metadata": {},
   "outputs": [
    {
     "data": {
      "text/html": [
       "<div>\n",
       "<style scoped>\n",
       "    .dataframe tbody tr th:only-of-type {\n",
       "        vertical-align: middle;\n",
       "    }\n",
       "\n",
       "    .dataframe tbody tr th {\n",
       "        vertical-align: top;\n",
       "    }\n",
       "\n",
       "    .dataframe thead th {\n",
       "        text-align: right;\n",
       "    }\n",
       "</style>\n",
       "<table border=\"1\" class=\"dataframe\">\n",
       "  <thead>\n",
       "    <tr style=\"text-align: right;\">\n",
       "      <th></th>\n",
       "      <th>0</th>\n",
       "      <th>1</th>\n",
       "      <th>2</th>\n",
       "      <th>3</th>\n",
       "      <th>4</th>\n",
       "      <th>5</th>\n",
       "      <th>6</th>\n",
       "      <th>7</th>\n",
       "      <th>8</th>\n",
       "      <th>9</th>\n",
       "      <th>...</th>\n",
       "      <th>20</th>\n",
       "      <th>21</th>\n",
       "      <th>22</th>\n",
       "      <th>23</th>\n",
       "      <th>24</th>\n",
       "      <th>25</th>\n",
       "      <th>26</th>\n",
       "      <th>27</th>\n",
       "      <th>28</th>\n",
       "      <th>29</th>\n",
       "    </tr>\n",
       "  </thead>\n",
       "  <tbody>\n",
       "    <tr>\n",
       "      <th>0</th>\n",
       "      <td>17.99</td>\n",
       "      <td>10.38</td>\n",
       "      <td>122.80</td>\n",
       "      <td>1001.0</td>\n",
       "      <td>0.11840</td>\n",
       "      <td>0.27760</td>\n",
       "      <td>0.3001</td>\n",
       "      <td>0.14710</td>\n",
       "      <td>0.2419</td>\n",
       "      <td>0.07871</td>\n",
       "      <td>...</td>\n",
       "      <td>25.38</td>\n",
       "      <td>17.33</td>\n",
       "      <td>184.60</td>\n",
       "      <td>2019.0</td>\n",
       "      <td>0.1622</td>\n",
       "      <td>0.6656</td>\n",
       "      <td>0.7119</td>\n",
       "      <td>0.2654</td>\n",
       "      <td>0.4601</td>\n",
       "      <td>0.11890</td>\n",
       "    </tr>\n",
       "    <tr>\n",
       "      <th>1</th>\n",
       "      <td>20.57</td>\n",
       "      <td>17.77</td>\n",
       "      <td>132.90</td>\n",
       "      <td>1326.0</td>\n",
       "      <td>0.08474</td>\n",
       "      <td>0.07864</td>\n",
       "      <td>0.0869</td>\n",
       "      <td>0.07017</td>\n",
       "      <td>0.1812</td>\n",
       "      <td>0.05667</td>\n",
       "      <td>...</td>\n",
       "      <td>24.99</td>\n",
       "      <td>23.41</td>\n",
       "      <td>158.80</td>\n",
       "      <td>1956.0</td>\n",
       "      <td>0.1238</td>\n",
       "      <td>0.1866</td>\n",
       "      <td>0.2416</td>\n",
       "      <td>0.1860</td>\n",
       "      <td>0.2750</td>\n",
       "      <td>0.08902</td>\n",
       "    </tr>\n",
       "    <tr>\n",
       "      <th>2</th>\n",
       "      <td>19.69</td>\n",
       "      <td>21.25</td>\n",
       "      <td>130.00</td>\n",
       "      <td>1203.0</td>\n",
       "      <td>0.10960</td>\n",
       "      <td>0.15990</td>\n",
       "      <td>0.1974</td>\n",
       "      <td>0.12790</td>\n",
       "      <td>0.2069</td>\n",
       "      <td>0.05999</td>\n",
       "      <td>...</td>\n",
       "      <td>23.57</td>\n",
       "      <td>25.53</td>\n",
       "      <td>152.50</td>\n",
       "      <td>1709.0</td>\n",
       "      <td>0.1444</td>\n",
       "      <td>0.4245</td>\n",
       "      <td>0.4504</td>\n",
       "      <td>0.2430</td>\n",
       "      <td>0.3613</td>\n",
       "      <td>0.08758</td>\n",
       "    </tr>\n",
       "    <tr>\n",
       "      <th>3</th>\n",
       "      <td>11.42</td>\n",
       "      <td>20.38</td>\n",
       "      <td>77.58</td>\n",
       "      <td>386.1</td>\n",
       "      <td>0.14250</td>\n",
       "      <td>0.28390</td>\n",
       "      <td>0.2414</td>\n",
       "      <td>0.10520</td>\n",
       "      <td>0.2597</td>\n",
       "      <td>0.09744</td>\n",
       "      <td>...</td>\n",
       "      <td>14.91</td>\n",
       "      <td>26.50</td>\n",
       "      <td>98.87</td>\n",
       "      <td>567.7</td>\n",
       "      <td>0.2098</td>\n",
       "      <td>0.8663</td>\n",
       "      <td>0.6869</td>\n",
       "      <td>0.2575</td>\n",
       "      <td>0.6638</td>\n",
       "      <td>0.17300</td>\n",
       "    </tr>\n",
       "    <tr>\n",
       "      <th>4</th>\n",
       "      <td>20.29</td>\n",
       "      <td>14.34</td>\n",
       "      <td>135.10</td>\n",
       "      <td>1297.0</td>\n",
       "      <td>0.10030</td>\n",
       "      <td>0.13280</td>\n",
       "      <td>0.1980</td>\n",
       "      <td>0.10430</td>\n",
       "      <td>0.1809</td>\n",
       "      <td>0.05883</td>\n",
       "      <td>...</td>\n",
       "      <td>22.54</td>\n",
       "      <td>16.67</td>\n",
       "      <td>152.20</td>\n",
       "      <td>1575.0</td>\n",
       "      <td>0.1374</td>\n",
       "      <td>0.2050</td>\n",
       "      <td>0.4000</td>\n",
       "      <td>0.1625</td>\n",
       "      <td>0.2364</td>\n",
       "      <td>0.07678</td>\n",
       "    </tr>\n",
       "  </tbody>\n",
       "</table>\n",
       "<p>5 rows × 30 columns</p>\n",
       "</div>"
      ],
      "text/plain": [
       "      0      1       2       3        4        5       6        7       8   \\\n",
       "0  17.99  10.38  122.80  1001.0  0.11840  0.27760  0.3001  0.14710  0.2419   \n",
       "1  20.57  17.77  132.90  1326.0  0.08474  0.07864  0.0869  0.07017  0.1812   \n",
       "2  19.69  21.25  130.00  1203.0  0.10960  0.15990  0.1974  0.12790  0.2069   \n",
       "3  11.42  20.38   77.58   386.1  0.14250  0.28390  0.2414  0.10520  0.2597   \n",
       "4  20.29  14.34  135.10  1297.0  0.10030  0.13280  0.1980  0.10430  0.1809   \n",
       "\n",
       "        9   ...     20     21      22      23      24      25      26      27  \\\n",
       "0  0.07871  ...  25.38  17.33  184.60  2019.0  0.1622  0.6656  0.7119  0.2654   \n",
       "1  0.05667  ...  24.99  23.41  158.80  1956.0  0.1238  0.1866  0.2416  0.1860   \n",
       "2  0.05999  ...  23.57  25.53  152.50  1709.0  0.1444  0.4245  0.4504  0.2430   \n",
       "3  0.09744  ...  14.91  26.50   98.87   567.7  0.2098  0.8663  0.6869  0.2575   \n",
       "4  0.05883  ...  22.54  16.67  152.20  1575.0  0.1374  0.2050  0.4000  0.1625   \n",
       "\n",
       "       28       29  \n",
       "0  0.4601  0.11890  \n",
       "1  0.2750  0.08902  \n",
       "2  0.3613  0.08758  \n",
       "3  0.6638  0.17300  \n",
       "4  0.2364  0.07678  \n",
       "\n",
       "[5 rows x 30 columns]"
      ]
     },
     "execution_count": 11,
     "metadata": {},
     "output_type": "execute_result"
    }
   ],
   "source": [
    "X.head()"
   ]
  },
  {
   "cell_type": "code",
   "execution_count": 13,
   "id": "a48bdf3c",
   "metadata": {},
   "outputs": [
    {
     "name": "stdout",
     "output_type": "stream",
     "text": [
      "<class 'pandas.core.frame.DataFrame'>\n",
      "RangeIndex: 569 entries, 0 to 568\n",
      "Data columns (total 30 columns):\n",
      " #   Column  Non-Null Count  Dtype  \n",
      "---  ------  --------------  -----  \n",
      " 0   0       569 non-null    float64\n",
      " 1   1       569 non-null    float64\n",
      " 2   2       569 non-null    float64\n",
      " 3   3       569 non-null    float64\n",
      " 4   4       569 non-null    float64\n",
      " 5   5       569 non-null    float64\n",
      " 6   6       569 non-null    float64\n",
      " 7   7       569 non-null    float64\n",
      " 8   8       569 non-null    float64\n",
      " 9   9       569 non-null    float64\n",
      " 10  10      569 non-null    float64\n",
      " 11  11      569 non-null    float64\n",
      " 12  12      569 non-null    float64\n",
      " 13  13      569 non-null    float64\n",
      " 14  14      569 non-null    float64\n",
      " 15  15      569 non-null    float64\n",
      " 16  16      569 non-null    float64\n",
      " 17  17      569 non-null    float64\n",
      " 18  18      569 non-null    float64\n",
      " 19  19      569 non-null    float64\n",
      " 20  20      569 non-null    float64\n",
      " 21  21      569 non-null    float64\n",
      " 22  22      569 non-null    float64\n",
      " 23  23      569 non-null    float64\n",
      " 24  24      569 non-null    float64\n",
      " 25  25      569 non-null    float64\n",
      " 26  26      569 non-null    float64\n",
      " 27  27      569 non-null    float64\n",
      " 28  28      569 non-null    float64\n",
      " 29  29      569 non-null    float64\n",
      "dtypes: float64(30)\n",
      "memory usage: 133.5 KB\n"
     ]
    }
   ],
   "source": [
    "X.info()"
   ]
  },
  {
   "cell_type": "code",
   "execution_count": 15,
   "id": "ba127c25",
   "metadata": {},
   "outputs": [
    {
     "data": {
      "text/plain": [
       "0    1\n",
       "1    1\n",
       "2    1\n",
       "3    1\n",
       "4    1\n",
       "dtype: int64"
      ]
     },
     "execution_count": 15,
     "metadata": {},
     "output_type": "execute_result"
    }
   ],
   "source": [
    "y.head()"
   ]
  },
  {
   "cell_type": "markdown",
   "id": "b30e7cb8",
   "metadata": {},
   "source": [
    "# Train Split Data"
   ]
  },
  {
   "cell_type": "code",
   "execution_count": 18,
   "id": "38badf1d",
   "metadata": {},
   "outputs": [
    {
     "data": {
      "text/plain": [
       "((398, 30), (171, 30))"
      ]
     },
     "execution_count": 18,
     "metadata": {},
     "output_type": "execute_result"
    }
   ],
   "source": [
    "X_train, X_test, y_train, y_test = train_test_split(X, y, test_size=0.3, random_state=101)\n",
    "X_train.shape, X_test.shape"
   ]
  },
  {
   "cell_type": "markdown",
   "id": "8c9092a9",
   "metadata": {},
   "source": [
    "# K-Fold Cross Validation"
   ]
  },
  {
   "cell_type": "code",
   "execution_count": 21,
   "id": "c16ed641",
   "metadata": {},
   "outputs": [],
   "source": [
    "# Logistic Regression Model\n",
    "log = LogisticRegression(penalty ='l1', C=10, solver='liblinear', random_state=4, max_iter=10000)\n",
    "\n",
    "# K-Fold Cross-Validation Instance\n",
    "kfold = KFold(n_splits=5, shuffle=True, random_state=4) # 5 to 10\n",
    "\n",
    "# estimate error\n",
    "clf =  cross_validate(\n",
    "    log,\n",
    "    X_train, \n",
    "    y_train,\n",
    "    scoring='accuracy',\n",
    "    return_train_score=True,\n",
    "    cv=kfold,\n",
    ")"
   ]
  },
  {
   "cell_type": "code",
   "execution_count": 22,
   "id": "efd2dca9",
   "metadata": {},
   "outputs": [
    {
     "name": "stdout",
     "output_type": "stream",
     "text": [
      "The Mean Accuracy Of Test Data: 0.9648101265822785\n",
      "The Mean Accuracy Of Train Data: 0.9811577058811931\n"
     ]
    }
   ],
   "source": [
    "print(f\"The Mean Accuracy Of Test Data: {np.mean(clf['test_score'])}\")\n",
    "print(f\"The Mean Accuracy Of Train Data: {np.mean(clf['train_score'])}\")"
   ]
  },
  {
   "cell_type": "markdown",
   "id": "68e6a47c",
   "metadata": {},
   "source": [
    "# Repeated K-Fold Cross Validation"
   ]
  },
  {
   "cell_type": "code",
   "execution_count": 24,
   "id": "60592603",
   "metadata": {},
   "outputs": [],
   "source": [
    "# Logistic Regression\n",
    "log = LogisticRegression(\n",
    "    penalty ='l1', C=10, solver='liblinear', random_state=4, max_iter=10000)\n",
    "\n",
    "# Repeated K-Fold Cross-Validation\n",
    "rkfold = RepeatedKFold(\n",
    "    n_splits=5,\n",
    "    n_repeats=10,\n",
    "    random_state=4,\n",
    ")\n",
    "\n",
    "# estimate error\n",
    "clf =  cross_validate(\n",
    "    log,\n",
    "    X_train, \n",
    "    y_train,\n",
    "    scoring='accuracy',\n",
    "    return_train_score=True,\n",
    "    cv=rkfold, # repeated k-fold\n",
    ")"
   ]
  },
  {
   "cell_type": "code",
   "execution_count": 25,
   "id": "f357d084",
   "metadata": {},
   "outputs": [
    {
     "name": "stdout",
     "output_type": "stream",
     "text": [
      "The Mean Accuracy Of Test Data: 0.9660727848101266\n",
      "The Mean Accuracy Of Train Data: 0.9818467695826187\n"
     ]
    }
   ],
   "source": [
    "print(f\"The Mean Accuracy Of Test Data: {np.mean(clf['test_score'])}\")\n",
    "print(f\"The Mean Accuracy Of Train Data: {np.mean(clf['train_score'])}\")"
   ]
  },
  {
   "cell_type": "markdown",
   "id": "8642056b",
   "metadata": {},
   "source": [
    "# Leave Out Cross Validation"
   ]
  },
  {
   "cell_type": "code",
   "execution_count": 26,
   "id": "8e858cdb",
   "metadata": {},
   "outputs": [],
   "source": [
    "# Logistic Regression\n",
    "log = LogisticRegression(\n",
    "    penalty ='l2', C=10, solver='liblinear', random_state=4, max_iter=10000)\n",
    "\n",
    "# Leave One Out Cross-Validation\n",
    "loo = LeaveOneOut()\n",
    "\n",
    "# estimate error\n",
    "clf =  cross_validate(\n",
    "    log,\n",
    "    X_train, \n",
    "    y_train,\n",
    "    scoring='accuracy',\n",
    "    return_train_score=True,\n",
    "    cv=loo, # LOO\n",
    ")"
   ]
  },
  {
   "cell_type": "code",
   "execution_count": 27,
   "id": "32a3a47b",
   "metadata": {},
   "outputs": [
    {
     "name": "stdout",
     "output_type": "stream",
     "text": [
      "The Mean Accuracy Of Test Data: 0.9522613065326633\n",
      "The Mean Accuracy Of Train Data: 0.9598432970899841\n"
     ]
    }
   ],
   "source": [
    "print(f\"The Mean Accuracy Of Test Data: {np.mean(clf['test_score'])}\")\n",
    "print(f\"The Mean Accuracy Of Train Data: {np.mean(clf['train_score'])}\")"
   ]
  },
  {
   "cell_type": "markdown",
   "id": "02f8513b",
   "metadata": {},
   "source": [
    "# Leave P Out Cross Validation"
   ]
  },
  {
   "cell_type": "code",
   "execution_count": null,
   "id": "01b29570",
   "metadata": {},
   "outputs": [],
   "source": [
    "# Logistic Regression\n",
    "log = LogisticRegression(\n",
    "    penalty ='l1', C=10, solver='liblinear', random_state=4, max_iter=10000)\n",
    "\n",
    "# Leave P Out Cross-Validation\n",
    "lpo = LeavePOut(p=3)\n",
    "\n",
    "# I take a smaller sample of the data, otherwise\n",
    "# my computer runs out of memory\n",
    "X_train_small = X_train.head(50)\n",
    "y_train_small = y_train.head(50)\n",
    "\n",
    "\n",
    "# estimate generalization error\n",
    "clf =  cross_validate(\n",
    "    log,\n",
    "    X_train_small, \n",
    "    y_train_small,\n",
    "    scoring='accuracy',\n",
    "    return_train_score=True,\n",
    "    cv=lpo, # lpo\n",
    ")"
   ]
  },
  {
   "cell_type": "code",
   "execution_count": null,
   "id": "c1cd4df4",
   "metadata": {},
   "outputs": [],
   "source": [
    "print(f\"The Mean Accuracy Of Test Data: {np.mean(clf['test_score'])}\")\n",
    "print(f\"The Mean Accuracy Of Train Data: {np.mean(clf['train_score'])}\")"
   ]
  },
  {
   "cell_type": "markdown",
   "id": "8decb68b",
   "metadata": {},
   "source": [
    "# Stratified Cross Validation"
   ]
  },
  {
   "cell_type": "code",
   "execution_count": null,
   "id": "7c32b885",
   "metadata": {},
   "outputs": [],
   "source": [
    "# Logistic Regression\n",
    "log = LogisticRegression(\n",
    "    penalty ='l1', C=10, solver='liblinear', random_state=4, max_iter=10000)\n",
    "\n",
    "# Leave P Out Cross-Validation\n",
    "skf = StratifiedKFold(n_splits=5, shuffle=True, random_state=4)\n",
    "\n",
    "# estimate generalization error\n",
    "clf =  cross_validate(\n",
    "    logit,\n",
    "    X_train, \n",
    "    y_train,\n",
    "    scoring='accuracy',\n",
    "    return_train_score=True,\n",
    "    cv=skf, # stratified\n",
    ")"
   ]
  },
  {
   "cell_type": "code",
   "execution_count": null,
   "id": "d5424434",
   "metadata": {},
   "outputs": [],
   "source": [
    "print(f\"The Mean Accuracy Of Test Data: {np.mean(clf['test_score'])}\")\n",
    "print(f\"The Mean Accuracy Of Train Data: {np.mean(clf['train_score'])}\")"
   ]
  },
  {
   "cell_type": "markdown",
   "id": "4720a900",
   "metadata": {},
   "source": [
    "# End"
   ]
  }
 ],
 "metadata": {
  "kernelspec": {
   "display_name": "Python 3 (ipykernel)",
   "language": "python",
   "name": "python3"
  },
  "language_info": {
   "codemirror_mode": {
    "name": "ipython",
    "version": 3
   },
   "file_extension": ".py",
   "mimetype": "text/x-python",
   "name": "python",
   "nbconvert_exporter": "python",
   "pygments_lexer": "ipython3",
   "version": "3.9.6"
  }
 },
 "nbformat": 4,
 "nbformat_minor": 5
}
